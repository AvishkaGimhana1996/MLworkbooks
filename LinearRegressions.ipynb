{
 "cells": [
  {
   "cell_type": "code",
   "execution_count": 1,
   "metadata": {},
   "outputs": [],
   "source": [
    "import pandas as pd\n",
    "from sklearn.linear_model import LinearRegression\n",
    "from sklearn.model_selection import train_test_split\n",
    "from sklearn.metrics import accuracy_score"
   ]
  },
  {
   "cell_type": "code",
   "execution_count": 3,
   "metadata": {},
   "outputs": [],
   "source": [
    "# create new file as a canada_per_capita_income_modified.csv and modified its header\n",
    "import csv\n",
    "import os\n",
    "\n",
    "InputFileName=\"canada_per_capita_income.csv\"\n",
    "OutPutFileName=os.path.splitext(InputFileName)[0]+\"_modified.csv\"\n",
    "\n",
    "with open (InputFileName,'r') as infile, open(OutPutFileName,'w') as outfile:\n",
    "    r=csv.reader(infile)\n",
    "    w=csv.writer(outfile)\n",
    "\n",
    "    next(r,None) # Skip the first row from  the readet\n",
    "    w.writerow(['year','income'])# write new header\n",
    "\n",
    "    for row in r:\n",
    "        w.writerow(row)# write other detail into canada_per_capita_income_modified.csv\n",
    "\n",
    "\n"
   ]
  },
  {
   "cell_type": "code",
   "execution_count": 9,
   "metadata": {},
   "outputs": [
    {
     "name": "stdout",
     "output_type": "stream",
     "text": [
      "income:[43305.7231292]\n"
     ]
    },
    {
     "name": "stderr",
     "output_type": "stream",
     "text": [
      "c:\\Users\\avish\\anaconda3\\Lib\\site-packages\\sklearn\\base.py:464: UserWarning: X does not have valid feature names, but LinearRegression was fitted with feature names\n",
      "  warnings.warn(\n"
     ]
    }
   ],
   "source": [
    "df=pd.read_csv('canada_per_capita_income_modified.csv')\n",
    "\n",
    "\n",
    "x=df[['year']]\n",
    "y=df[['income']]\n",
    "# data split into train and test\n",
    "X_train,X_test,y_train,y_test=train_test_split(x,y,train_size=0.2,random_state=42)\n",
    "\n",
    "# create a linear object\n",
    "Linear_object=LinearRegression()\n",
    "\n",
    "# fit model\n",
    "Linear_object.fit(X_train,y_train)\n",
    "# cretae a y_pred\n",
    "y_pred=Linear_object.predict(X_test)\n",
    "\n",
    "# predict 2020 year prediction\n",
    "prediction_2020=Linear_object.predict([[2020]])\n",
    "print(f'income:{prediction_2020[0]}')\n",
    "\n"
   ]
  },
  {
   "cell_type": "code",
   "execution_count": null,
   "metadata": {},
   "outputs": [],
   "source": []
  }
 ],
 "metadata": {
  "kernelspec": {
   "display_name": "base",
   "language": "python",
   "name": "python3"
  },
  "language_info": {
   "codemirror_mode": {
    "name": "ipython",
    "version": 3
   },
   "file_extension": ".py",
   "mimetype": "text/x-python",
   "name": "python",
   "nbconvert_exporter": "python",
   "pygments_lexer": "ipython3",
   "version": "3.11.5"
  }
 },
 "nbformat": 4,
 "nbformat_minor": 2
}
