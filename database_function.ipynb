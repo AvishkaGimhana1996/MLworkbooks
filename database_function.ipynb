{
 "cells": [
  {
   "cell_type": "code",
   "execution_count": 28,
   "metadata": {},
   "outputs": [
    {
     "name": "stdout",
     "output_type": "stream",
     "text": [
      "(7524, 'John Doe', 25)\n",
      "(77424, 'John depth', 27)\n",
      "(7524, 'John Doe', 25)\n",
      "(77424, 'John depth', 27)\n",
      "(7524, 'John Doe', 25)\n",
      "(77424, 'John depth', 27)\n"
     ]
    }
   ],
   "source": [
    "import sqlite3\n",
    "\n",
    "# connect to a database\n",
    "connection=sqlite3.connect('students.db')\n",
    "\n",
    "# create cursor object foe executing queries\n",
    "cursor=connection.cursor()\n",
    "\n",
    "# create a table \n",
    "cursor.execute('''\n",
    "    CREATE TABLE IF NOT EXISTS student(\n",
    "    student_index INTEGER ,\n",
    "    Name TEXT,\n",
    "    Age INTEGER\n",
    ")\n",
    "\n",
    "''')\n",
    "\n",
    "# insert some data\n",
    "cursor.execute(\n",
    "    \"INSERT INTO student(student_index,Name,Age) VALUES (?,?,?)\", (7524,'John Doe', 25)\n",
    ")\n",
    "\n",
    "cursor.execute(\n",
    "    \"INSERT INTO student(student_index,Name,Age) VALUES (?,?,?)\", (77424,'John depth', 27)\n",
    ")\n",
    "\n",
    "# Commit the changes and close the connection\n",
    "cursor.execute(\"SELECT * FROM student\")\n",
    "\n",
    "rows = cursor.fetchall()\n",
    "# Display the data\n",
    "for row in rows:\n",
    " print(row)\n",
    "# Close the connection\n",
    "\n",
    "connection.commit()\n",
    "connection.close()"
   ]
  },
  {
   "cell_type": "code",
   "execution_count": null,
   "metadata": {},
   "outputs": [],
   "source": []
  },
  {
   "cell_type": "code",
   "execution_count": null,
   "metadata": {},
   "outputs": [],
   "source": []
  }
 ],
 "metadata": {
  "kernelspec": {
   "display_name": "base",
   "language": "python",
   "name": "python3"
  },
  "language_info": {
   "codemirror_mode": {
    "name": "ipython",
    "version": 3
   },
   "file_extension": ".py",
   "mimetype": "text/x-python",
   "name": "python",
   "nbconvert_exporter": "python",
   "pygments_lexer": "ipython3",
   "version": "3.11.5"
  }
 },
 "nbformat": 4,
 "nbformat_minor": 2
}
