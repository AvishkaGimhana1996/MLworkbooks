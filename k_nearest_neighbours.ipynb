{
 "cells": [
  {
   "cell_type": "code",
   "execution_count": 2,
   "metadata": {},
   "outputs": [],
   "source": [
    "# essential libraries\n",
    "import pandas as pd\n",
    "from sklearn.model_selection import train_test_split\n",
    "from sklearn.neighbors import KNeighborsClassifier\n",
    "from sklearn.metrics import accuracy_score\n",
    "from sklearn.datasets import load_iris\n",
    "\n"
   ]
  },
  {
   "cell_type": "code",
   "execution_count": 4,
   "metadata": {},
   "outputs": [
    {
     "name": "stdout",
     "output_type": "stream",
     "text": [
      "accuracy is: 0.975\n"
     ]
    }
   ],
   "source": [
    "# load the iris data set\n",
    "iris=load_iris()\n",
    "x=iris.data\n",
    "y=iris.target\n",
    "\n",
    "# data split into train and test\n",
    "X_train,X_test,y_train,y_test=train_test_split(x,y,train_size=0.2,random_state=42)\n",
    "\n",
    "# Create a KNN caliisfier with k=3\n",
    "\n",
    "knn_classifier=KNeighborsClassifier(n_neighbors=3)\n",
    "\n",
    "# Train model\n",
    "knn_classifier.fit(X_train,y_train)\n",
    "\n",
    "# make prediction on the test data\n",
    "y_pred=knn_classifier.predict(X_test)\n",
    "\n",
    "# Accuracy\n",
    "accuracy=accuracy_score(y_test,y_pred)\n",
    "print(\"accuracy is:\",accuracy)"
   ]
  }
 ],
 "metadata": {
  "kernelspec": {
   "display_name": "base",
   "language": "python",
   "name": "python3"
  },
  "language_info": {
   "codemirror_mode": {
    "name": "ipython",
    "version": 3
   },
   "file_extension": ".py",
   "mimetype": "text/x-python",
   "name": "python",
   "nbconvert_exporter": "python",
   "pygments_lexer": "ipython3",
   "version": "3.11.5"
  }
 },
 "nbformat": 4,
 "nbformat_minor": 2
}
